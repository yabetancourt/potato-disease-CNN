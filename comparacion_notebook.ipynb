{
 "cells": [
  {
   "cell_type": "code",
   "execution_count": 1,
   "metadata": {},
   "outputs": [],
   "source": [
    "import tensorflow as tf\n",
    "import numpy as np\n",
    "from sklearn.svm import SVC\n",
    "from sklearn.metrics import accuracy_score\n",
    "from sklearn.ensemble import RandomForestClassifier\n",
    "from sklearn.neighbors import KNeighborsClassifier"
   ]
  },
  {
   "cell_type": "code",
   "execution_count": 2,
   "metadata": {},
   "outputs": [
    {
     "name": "stdout",
     "output_type": "stream",
     "text": [
      "Found 3251 files belonging to 3 classes.\n",
      "Found 405 files belonging to 3 classes.\n"
     ]
    }
   ],
   "source": [
    "IMAGE_SIZE = 256\n",
    "BATCH_SIZE = 32\n",
    "\n",
    "\n",
    "\n",
    "training_dataset = tf.keras.preprocessing.image_dataset_from_directory(\n",
    "   'images/Training',\n",
    "    shuffle=True,\n",
    "    image_size = (IMAGE_SIZE,IMAGE_SIZE),\n",
    "    batch_size = BATCH_SIZE\n",
    ")\n",
    "\n",
    "testing_dataset = tf.keras.preprocessing.image_dataset_from_directory(\n",
    "   'images/Testing',\n",
    "    shuffle=True,\n",
    "    image_size = (IMAGE_SIZE,IMAGE_SIZE),\n",
    "    batch_size = BATCH_SIZE\n",
    ")"
   ]
  },
  {
   "cell_type": "code",
   "execution_count": 5,
   "metadata": {},
   "outputs": [],
   "source": [
    "# Preprocesamiento de datos de entrenamiento\n",
    "X_train_flat = []\n",
    "y_train_labels = []\n",
    "\n",
    "for images, labels in training_dataset:\n",
    "    for image, label in zip(images, labels):\n",
    "        X_train_flat.append(image.numpy().reshape(-1))\n",
    "        y_train_labels.append(label.numpy())\n",
    "\n",
    "X_train_flat = np.array(X_train_flat)\n",
    "y_train_labels = np.array(y_train_labels)\n",
    "\n"
   ]
  },
  {
   "cell_type": "code",
   "execution_count": 6,
   "metadata": {},
   "outputs": [],
   "source": [
    "# Preprocesamiento de datos de prueba\n",
    "X_test_flat = []\n",
    "y_test_labels = []\n",
    "\n",
    "for images, labels in testing_dataset:\n",
    "    for image, label in zip(images, labels):\n",
    "        X_test_flat.append(image.numpy().reshape(-1))\n",
    "        y_test_labels.append(label.numpy())\n",
    "\n",
    "X_test_flat = np.array(X_test_flat)\n",
    "y_test_labels = np.array(y_test_labels)\n",
    "\n"
   ]
  },
  {
   "cell_type": "code",
   "execution_count": 7,
   "metadata": {},
   "outputs": [
    {
     "name": "stdout",
     "output_type": "stream",
     "text": [
      "Accuracy of SVM with polynomial kernel using raw pixel features: 0.7506172839506173\n"
     ]
    }
   ],
   "source": [
    "# Entrenar SVM con kernel polinomial\n",
    "svm_model = SVC(kernel='poly', degree=3)  # El grado del polinomio se puede ajustar según sea necesario\n",
    "svm_model.fit(X_train_flat, y_train_labels)\n",
    "# Predicciones\n",
    "y_pred_svm = svm_model.predict(X_test_flat)\n",
    "\n",
    "# Calcular precisión\n",
    "accuracy1 = accuracy_score(y_test_labels, y_pred_svm)\n",
    "print(\"Accuracy of SVM with polynomial kernel using raw pixel features:\", accuracy1)\n"
   ]
  },
  {
   "cell_type": "code",
   "execution_count": 8,
   "metadata": {},
   "outputs": [
    {
     "name": "stdout",
     "output_type": "stream",
     "text": [
      "Accuracy of Random Forest: 0.7876543209876543\n"
     ]
    }
   ],
   "source": [
    "# Entrenar Random Forest\n",
    "rf_model = RandomForestClassifier(n_estimators=200, random_state=50)  # Puedes ajustar el número de árboles (n_estimators) según sea necesario\n",
    "rf_model.fit(X_train_flat, y_train_labels)\n",
    "\n",
    "y_pred_rf = rf_model.predict(X_test_flat)\n",
    "\n",
    "# Calcular precisión\n",
    "accuracy2 = accuracy_score(y_test_labels, y_pred_rf)\n",
    "print(\"Accuracy of Random Forest:\", accuracy2)\n"
   ]
  },
  {
   "cell_type": "code",
   "execution_count": 9,
   "metadata": {},
   "outputs": [
    {
     "name": "stdout",
     "output_type": "stream",
     "text": [
      "Accuracy of KNN:  0.5851851851851851\n"
     ]
    }
   ],
   "source": [
    "# Entrenar k-NN\n",
    "knn_model = KNeighborsClassifier(n_neighbors=3)  # Puedes ajustar el número de vecinos (n_neighbors) según sea necesario\n",
    "knn_model.fit(X_train_flat, y_train_labels)\n",
    "\n",
    "# Predicciones\n",
    "y_pred_knn = knn_model.predict(X_test_flat)\n",
    "\n",
    "# Calcular precisión\n",
    "accuracy3 = accuracy_score(y_test_labels, y_pred_knn)\n",
    "print(\"Accuracy of KNN: \", accuracy3)"
   ]
  }
 ],
 "metadata": {
  "kernelspec": {
   "display_name": "homl3",
   "language": "python",
   "name": "python3"
  },
  "language_info": {
   "codemirror_mode": {
    "name": "ipython",
    "version": 3
   },
   "file_extension": ".py",
   "mimetype": "text/x-python",
   "name": "python",
   "nbconvert_exporter": "python",
   "pygments_lexer": "ipython3",
   "version": "3.9.0"
  }
 },
 "nbformat": 4,
 "nbformat_minor": 2
}
